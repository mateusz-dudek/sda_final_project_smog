{
 "cells": [
  {
   "cell_type": "code",
   "execution_count": 1,
   "id": "f22dfba6",
   "metadata": {},
   "outputs": [],
   "source": [
    "import pandas as pd\n",
    "import numpy as np"
   ]
  },
  {
   "cell_type": "code",
   "execution_count": 2,
   "id": "f12e6a73",
   "metadata": {},
   "outputs": [],
   "source": [
    "smog_4_models = pd.read_excel('Smog.xlsx')"
   ]
  },
  {
   "cell_type": "code",
   "execution_count": 3,
   "id": "42c3c0ee",
   "metadata": {},
   "outputs": [
    {
     "name": "stdout",
     "output_type": "stream",
     "text": [
      "<class 'pandas.core.frame.DataFrame'>\n",
      "RangeIndex: 8771 entries, 0 to 8770\n",
      "Data columns (total 13 columns):\n",
      " #   Column           Non-Null Count  Dtype         \n",
      "---  ------           --------------  -----         \n",
      " 0   Unnamed: 0       8771 non-null   int64         \n",
      " 1   Data             8771 non-null   datetime64[ns]\n",
      " 2   Dwutlenek_azotu  8771 non-null   float64       \n",
      " 3   Tlenki_azotu     8771 non-null   float64       \n",
      " 4   PM10             8771 non-null   float64       \n",
      " 5   PM_2_5           8771 non-null   float64       \n",
      " 6   Benzen           8771 non-null   float64       \n",
      " 7   Tlenek_wegla     8771 non-null   float64       \n",
      " 8   Kierunek_wiatru  8771 non-null   float64       \n",
      " 9   Predkosc_wiatru  8771 non-null   float64       \n",
      " 10  Temperatura      8771 non-null   float64       \n",
      " 11  Wilgotnosc       8771 non-null   float64       \n",
      " 12  Cisnienie        8771 non-null   float64       \n",
      "dtypes: datetime64[ns](1), float64(11), int64(1)\n",
      "memory usage: 890.9 KB\n"
     ]
    }
   ],
   "source": [
    "smog_4_models.info()"
   ]
  },
  {
   "cell_type": "code",
   "execution_count": 4,
   "id": "b9fd96ca",
   "metadata": {},
   "outputs": [],
   "source": [
    "smog_4_models['Rok'] = pd.DatetimeIndex(smog_4_models['Data']).year\n",
    "smog_4_models['Miesiac'] = pd.DatetimeIndex(smog_4_models['Data']).month\n",
    "smog_4_models['Dzien'] = pd.DatetimeIndex(smog_4_models['Data']).day\n",
    "smog_4_models['Godzina'] = pd.DatetimeIndex(smog_4_models['Data']).hour\n",
    "smog_4_models = smog_4_models.drop(['Data','Rok'],axis=1)"
   ]
  },
  {
   "cell_type": "code",
   "execution_count": 5,
   "id": "f6e6867f",
   "metadata": {},
   "outputs": [],
   "source": [
    "from sklearn.model_selection import StratifiedShuffleSplit"
   ]
  },
  {
   "cell_type": "code",
   "execution_count": 6,
   "id": "422c1401",
   "metadata": {},
   "outputs": [],
   "source": [
    "split = StratifiedShuffleSplit(n_splits=1,test_size = 0.2,random_state=42)\n",
    "for train_index, test_index in split.split(smog_4_models,smog_4_models['Miesiac']):\n",
    "    strat_train_set = smog_4_models.loc[train_index]\n",
    "    strat_test_set = smog_4_models.loc[test_index]"
   ]
  },
  {
   "cell_type": "code",
   "execution_count": 7,
   "id": "a6da7572",
   "metadata": {},
   "outputs": [],
   "source": [
    "X = strat_train_set.drop('PM10',axis = 1)\n",
    "y = strat_train_set['PM10'].copy()"
   ]
  },
  {
   "cell_type": "code",
   "execution_count": 8,
   "id": "4b3f4be5",
   "metadata": {},
   "outputs": [],
   "source": [
    "from sklearn.preprocessing import StandardScaler\n",
    "scaler = StandardScaler()\n",
    "smog_scaled = scaler.fit_transform(X)"
   ]
  },
  {
   "cell_type": "code",
   "execution_count": 9,
   "id": "c26f8b34",
   "metadata": {},
   "outputs": [],
   "source": [
    "from sklearn.linear_model import LinearRegression"
   ]
  },
  {
   "cell_type": "code",
   "execution_count": 10,
   "id": "e223c651",
   "metadata": {},
   "outputs": [
    {
     "data": {
      "text/plain": [
       "LinearRegression()"
      ]
     },
     "execution_count": 10,
     "metadata": {},
     "output_type": "execute_result"
    }
   ],
   "source": [
    "lin_reg = LinearRegression()\n",
    "lin_reg.fit(X,y)"
   ]
  },
  {
   "cell_type": "code",
   "execution_count": 11,
   "id": "32152411",
   "metadata": {},
   "outputs": [
    {
     "name": "stdout",
     "output_type": "stream",
     "text": [
      "Prognozy:  [53.00726313 25.65279379 42.7331483  19.41986257 33.21748634]\n",
      "Rzeczywiste:  [33.6, 21.7, 41.1, 17.8, 23.6]\n"
     ]
    }
   ],
   "source": [
    "some_X = X.iloc[:5]\n",
    "some_y = y.iloc[:5]\n",
    "print('Prognozy: ',lin_reg.predict(some_X))\n",
    "print('Rzeczywiste: ',list(some_y))"
   ]
  },
  {
   "cell_type": "code",
   "execution_count": 12,
   "id": "d0d2f2c5",
   "metadata": {},
   "outputs": [
    {
     "data": {
      "text/plain": [
       "10.99581566293359"
      ]
     },
     "execution_count": 12,
     "metadata": {},
     "output_type": "execute_result"
    }
   ],
   "source": [
    "from sklearn.metrics import mean_squared_error\n",
    "\n",
    "smog_predictions = lin_reg.predict(X)\n",
    "lin_mse = mean_squared_error(y, smog_predictions)\n",
    "lin_rmse = np.sqrt(lin_mse)\n",
    "lin_rmse"
   ]
  },
  {
   "cell_type": "code",
   "execution_count": 13,
   "id": "b4147f96",
   "metadata": {},
   "outputs": [
    {
     "data": {
      "text/plain": [
       "7.348680745448556"
      ]
     },
     "execution_count": 13,
     "metadata": {},
     "output_type": "execute_result"
    }
   ],
   "source": [
    "from sklearn.metrics import mean_absolute_error\n",
    "\n",
    "lin_mae = mean_absolute_error(y, smog_predictions)\n",
    "lin_mae"
   ]
  },
  {
   "cell_type": "code",
   "execution_count": 14,
   "id": "9a853c69",
   "metadata": {},
   "outputs": [
    {
     "data": {
      "text/plain": [
       "DecisionTreeRegressor(random_state=42)"
      ]
     },
     "execution_count": 14,
     "metadata": {},
     "output_type": "execute_result"
    }
   ],
   "source": [
    "from sklearn.tree import DecisionTreeRegressor\n",
    "\n",
    "tree_reg = DecisionTreeRegressor(random_state=42)\n",
    "tree_reg.fit(X, y)"
   ]
  },
  {
   "cell_type": "code",
   "execution_count": 15,
   "id": "6151c9a5",
   "metadata": {},
   "outputs": [
    {
     "data": {
      "text/plain": [
       "1.2037829569420853e-15"
      ]
     },
     "execution_count": 15,
     "metadata": {},
     "output_type": "execute_result"
    }
   ],
   "source": [
    "smog_predictions = tree_reg.predict(X)\n",
    "tree_mse = mean_squared_error(y, smog_predictions)\n",
    "tree_rmse = np.sqrt(tree_mse)\n",
    "tree_rmse"
   ]
  },
  {
   "cell_type": "code",
   "execution_count": 16,
   "id": "f9496275",
   "metadata": {},
   "outputs": [],
   "source": [
    "from sklearn.model_selection import cross_val_score\n",
    "\n",
    "scores = cross_val_score(tree_reg, X, y,\n",
    "                         scoring=\"neg_mean_squared_error\", cv=10)\n",
    "tree_rmse_scores = np.sqrt(-scores)"
   ]
  },
  {
   "cell_type": "code",
   "execution_count": 17,
   "id": "fd77a7d2",
   "metadata": {},
   "outputs": [
    {
     "name": "stdout",
     "output_type": "stream",
     "text": [
      "Wyniki: [ 9.75972809 10.304247    8.62263747  9.65330922  9.50856561  9.91443514\n",
      "  9.60093875 10.37016205 10.22739215  9.69023666]\n",
      "Średnia: 9.765165214158271\n",
      "Odchylenie standardowe: 0.48051061677795187\n"
     ]
    }
   ],
   "source": [
    "def display_scores(scores):\n",
    "    print(\"Wyniki:\", scores)\n",
    "    print(\"Średnia:\", scores.mean())\n",
    "    print(\"Odchylenie standardowe:\", scores.std())\n",
    "\n",
    "display_scores(tree_rmse_scores)"
   ]
  },
  {
   "cell_type": "code",
   "execution_count": 18,
   "id": "726fbbf5",
   "metadata": {},
   "outputs": [
    {
     "name": "stdout",
     "output_type": "stream",
     "text": [
      "Wyniki: [10.88539972 11.13840773 11.20915309 10.05417988 11.19348228 11.06999044\n",
      " 10.68909898 10.94386327 12.18227652 10.82309117]\n",
      "Średnia: 11.018894307136362\n",
      "Odchylenie standardowe: 0.5038114737099317\n"
     ]
    }
   ],
   "source": [
    "lin_scores = cross_val_score(lin_reg, X, y,\n",
    "                             scoring=\"neg_mean_squared_error\", cv=10)\n",
    "lin_rmse_scores = np.sqrt(-lin_scores)\n",
    "display_scores(lin_rmse_scores)"
   ]
  },
  {
   "cell_type": "code",
   "execution_count": 19,
   "id": "a8e64fe0",
   "metadata": {},
   "outputs": [
    {
     "data": {
      "text/plain": [
       "RandomForestRegressor(random_state=42)"
      ]
     },
     "execution_count": 19,
     "metadata": {},
     "output_type": "execute_result"
    }
   ],
   "source": [
    "from sklearn.ensemble import RandomForestRegressor\n",
    "\n",
    "forest_reg = RandomForestRegressor(n_estimators=100, random_state=42)\n",
    "forest_reg.fit(X, y)"
   ]
  },
  {
   "cell_type": "code",
   "execution_count": 20,
   "id": "8035963c",
   "metadata": {},
   "outputs": [
    {
     "data": {
      "text/plain": [
       "2.485269877348702"
      ]
     },
     "execution_count": 20,
     "metadata": {},
     "output_type": "execute_result"
    }
   ],
   "source": [
    "smog_predictions = forest_reg.predict(X)\n",
    "forest_mse = mean_squared_error(y, smog_predictions)\n",
    "forest_rmse = np.sqrt(forest_mse)\n",
    "forest_rmse_scores = np.sqrt(-lin_scores)\n",
    "forest_rmse"
   ]
  },
  {
   "cell_type": "code",
   "execution_count": 21,
   "id": "7d5b0676",
   "metadata": {},
   "outputs": [
    {
     "name": "stdout",
     "output_type": "stream",
     "text": [
      "Wyniki: [6.57288765 6.60881089 6.58348562 7.05969271 6.645026   6.66162908\n",
      " 6.08885641 7.01839977 7.12766555 6.82572857]\n",
      "Średnia: 6.719218223698904\n",
      "Odchylenie standardowe: 0.29013943567523687\n"
     ]
    }
   ],
   "source": [
    "forest_scores = cross_val_score(forest_reg, X, y,\n",
    "                                scoring=\"neg_mean_squared_error\", cv=10)\n",
    "forest_rmse_scores = np.sqrt(-forest_scores)\n",
    "display_scores(forest_rmse_scores)"
   ]
  },
  {
   "cell_type": "markdown",
   "id": "74db376b",
   "metadata": {},
   "source": [
    "Poniższy kod trzeba puścić w colabie na GPU:"
   ]
  },
  {
   "cell_type": "code",
   "execution_count": null,
   "id": "110f7fdf",
   "metadata": {},
   "outputs": [],
   "source": [
    "from sklearn.svm import SVR\n",
    "\n",
    "svm_reg = SVR(kernel=\"linear\")\n",
    "svm_reg.fit(X, y)\n",
    "smog_predictions = svm_reg.predict(X)\n",
    "svm_mse = mean_squared_error(y, smog_predictions)\n",
    "svm_rmse = np.sqrt(svm_mse)\n",
    "svm_rmse"
   ]
  },
  {
   "cell_type": "code",
   "execution_count": null,
   "id": "903c40fb",
   "metadata": {},
   "outputs": [],
   "source": []
  }
 ],
 "metadata": {
  "kernelspec": {
   "display_name": "Python 3 (ipykernel)",
   "language": "python",
   "name": "python3"
  },
  "language_info": {
   "codemirror_mode": {
    "name": "ipython",
    "version": 3
   },
   "file_extension": ".py",
   "mimetype": "text/x-python",
   "name": "python",
   "nbconvert_exporter": "python",
   "pygments_lexer": "ipython3",
   "version": "3.8.8"
  }
 },
 "nbformat": 4,
 "nbformat_minor": 5
}
