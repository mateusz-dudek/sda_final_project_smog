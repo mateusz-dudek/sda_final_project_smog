{
 "cells": [
  {
   "cell_type": "code",
   "execution_count": 134,
   "id": "2d57ebda",
   "metadata": {},
   "outputs": [],
   "source": [
    "import pandas as pd\n",
    "import numpy as np\n",
    "from pandas_profiling import ProfileReport\n",
    "import os\n",
    "from os import listdir\n",
    "from os.path import isfile, join"
   ]
  },
  {
   "cell_type": "code",
   "execution_count": 135,
   "id": "a5b67084",
   "metadata": {},
   "outputs": [],
   "source": [
    "current_dir = os.path.abspath(os.getcwd())"
   ]
  },
  {
   "cell_type": "code",
   "execution_count": 136,
   "id": "2f08a909",
   "metadata": {},
   "outputs": [],
   "source": [
    "path = os.path.join(current_dir,'Excel source files')"
   ]
  },
  {
   "cell_type": "code",
   "execution_count": 137,
   "id": "fb381a2f",
   "metadata": {},
   "outputs": [],
   "source": [
    "onlyfiles = [f for f in listdir(path) if isfile(join(path, f))]\n",
    "combined_csv = pd.concat([pd.read_excel(join(path, f)) for f in onlyfiles])"
   ]
  },
  {
   "cell_type": "code",
   "execution_count": 138,
   "id": "90525af5",
   "metadata": {},
   "outputs": [],
   "source": [
    "combined_csv.sort_values(by='Data',ascending=True, inplace=True)"
   ]
  },
  {
   "cell_type": "code",
   "execution_count": 139,
   "id": "f6981da1",
   "metadata": {},
   "outputs": [],
   "source": [
    "combined_csv.rename(columns={'Aleja Krasińskiego - tlenek węgla jednostka ug/m3':'Tlenek1'},inplace=True)"
   ]
  },
  {
   "cell_type": "code",
   "execution_count": 140,
   "id": "74ce9608",
   "metadata": {},
   "outputs": [],
   "source": [
    "combined_csv['Tlenek1'] = combined_csv['Tlenek1'].fillna(0)"
   ]
  },
  {
   "cell_type": "code",
   "execution_count": 141,
   "id": "c480e946",
   "metadata": {},
   "outputs": [],
   "source": [
    "combined_csv.columns = ['Data', 'Tlenek1','Dwutlenek_azotu','Tlenki_azotu','PM10','PM_2_5','Benzen','Tlenek2']"
   ]
  },
  {
   "cell_type": "code",
   "execution_count": 142,
   "id": "78732dfc",
   "metadata": {},
   "outputs": [],
   "source": [
    "combined_csv['Tlenek2'] = combined_csv['Tlenek2'].fillna(0)"
   ]
  },
  {
   "cell_type": "code",
   "execution_count": 143,
   "id": "2a5adfd5",
   "metadata": {},
   "outputs": [],
   "source": [
    "combined_csv['Tlenek_wegla'] = combined_csv['Tlenek1'] + combined_csv['Tlenek2']"
   ]
  },
  {
   "cell_type": "code",
   "execution_count": 144,
   "id": "61ef20e2",
   "metadata": {},
   "outputs": [],
   "source": [
    "combined_csv.drop(columns=['Tlenek1','Tlenek2'], axis=1, inplace=True)"
   ]
  },
  {
   "cell_type": "code",
   "execution_count": 173,
   "id": "7f5a86a6",
   "metadata": {},
   "outputs": [],
   "source": [
    "temperatura = pd.read_csv('data_2020_temp.csv')"
   ]
  },
  {
   "cell_type": "code",
   "execution_count": 146,
   "id": "5b1d1afe",
   "metadata": {},
   "outputs": [],
   "source": [
    "temperatura.rename(columns={'time': 'Data'},inplace=True)"
   ]
  },
  {
   "cell_type": "code",
   "execution_count": 147,
   "id": "007ecce4",
   "metadata": {},
   "outputs": [],
   "source": [
    "temperatura['Data'] = pd.to_datetime(temperatura['Data'], format='%Y-%m-%d %H:%M:%S')"
   ]
  },
  {
   "cell_type": "code",
   "execution_count": 148,
   "id": "d39a71fd",
   "metadata": {},
   "outputs": [],
   "source": [
    "combined_csv['Data'] = pd.to_datetime(combined_csv['Data'], format='%Y-%m-%d %H:%M')"
   ]
  },
  {
   "cell_type": "code",
   "execution_count": 149,
   "id": "bc9fa95e",
   "metadata": {},
   "outputs": [],
   "source": [
    "smog = combined_csv.merge(temperatura, on='Data', how='left')"
   ]
  },
  {
   "cell_type": "code",
   "execution_count": 150,
   "id": "3f62a58b",
   "metadata": {},
   "outputs": [],
   "source": [
    "smog.columns = ['Data', 'Dwutlenek_azotu','Tlenki_azotu','PM10','PM_2_5','Benzen','Tlenek_wegla','Kierunek_wiatru','Predkosc_wiatru',\n",
    "               'Temperatura','Wilgotnosc','Cisnienie']"
   ]
  },
  {
   "cell_type": "code",
   "execution_count": 151,
   "id": "1706aa51",
   "metadata": {},
   "outputs": [],
   "source": [
    "smog['Tlenki_azotu'] = smog['Tlenki_azotu'].fillna(smog['Tlenki_azotu'].rolling(168,min_periods=1).mean())"
   ]
  },
  {
   "cell_type": "code",
   "execution_count": 152,
   "id": "18b4a114",
   "metadata": {},
   "outputs": [],
   "source": [
    "smog['Dwutlenek_azotu'] = pd.to_numeric(smog.Dwutlenek_azotu, errors='coerce')"
   ]
  },
  {
   "cell_type": "code",
   "execution_count": 153,
   "id": "8e5bcb1c",
   "metadata": {},
   "outputs": [],
   "source": [
    "smog['PM10'] = pd.to_numeric(smog.PM10, errors='coerce')\n",
    "smog['Benzen'] = pd.to_numeric(smog.Benzen, errors='coerce')"
   ]
  },
  {
   "cell_type": "code",
   "execution_count": 154,
   "id": "a63f7180",
   "metadata": {},
   "outputs": [],
   "source": [
    "smog['PM_2_5'] = smog['PM_2_5'].fillna(smog['PM_2_5'].rolling(168,min_periods=1).mean())\n",
    "smog['Tlenek_wegla'] = smog['Tlenek_wegla'].fillna(smog['Tlenek_wegla'].rolling(168,min_periods=1).mean())\n",
    "smog['Kierunek_wiatru'] = smog['Kierunek_wiatru'].fillna(smog['Kierunek_wiatru'].rolling(168,min_periods=1).mean())\n",
    "smog['Predkosc_wiatru'] = smog['Predkosc_wiatru'].fillna(smog['Predkosc_wiatru'].rolling(168,min_periods=1).mean())\n",
    "smog['Temperatura'] = smog['Temperatura'].fillna(smog['Temperatura'].rolling(168,min_periods=1).mean())\n",
    "smog['Wilgotnosc'] = smog['Wilgotnosc'].fillna(smog['Wilgotnosc'].rolling(168,min_periods=1).mean())\n",
    "smog['Cisnienie'] = smog['Cisnienie'].fillna(smog['Cisnienie'].rolling(168,min_periods=1).mean())\n",
    "smog['Dwutlenek_azotu'] = smog['Dwutlenek_azotu'].fillna(smog['Dwutlenek_azotu'].rolling(168,min_periods=1).mean())\n",
    "smog['PM10'] = smog['PM10'].fillna(smog['PM10'].rolling(168,min_periods=1).mean())\n",
    "smog['Benzen'] = smog['Benzen'].fillna(smog['Benzen'].rolling(168,min_periods=1).mean())"
   ]
  },
  {
   "cell_type": "code",
   "execution_count": 155,
   "id": "29a9f573",
   "metadata": {},
   "outputs": [],
   "source": [
    "smog['Tlenek_wegla'] = smog['Tlenek_wegla'].replace(0, np.nan)\n",
    "smog['Tlenek_wegla'] = smog['Tlenek_wegla'].fillna(smog['Tlenek_wegla'].rolling(168,min_periods=1).mean())"
   ]
  },
  {
   "cell_type": "code",
   "execution_count": 156,
   "id": "3c318d89",
   "metadata": {},
   "outputs": [],
   "source": [
    "profile = ProfileReport(smog, title=\"Krakow smog report\")"
   ]
  },
  {
   "cell_type": "code",
   "execution_count": 157,
   "id": "5015f355",
   "metadata": {},
   "outputs": [],
   "source": [
    "#profile"
   ]
  },
  {
   "cell_type": "code",
   "execution_count": 158,
   "id": "69e74168",
   "metadata": {},
   "outputs": [],
   "source": [
    "#smog.to_excel('Smog.xlsx')"
   ]
  },
  {
   "cell_type": "code",
   "execution_count": 159,
   "id": "7aeeae49",
   "metadata": {},
   "outputs": [],
   "source": [
    "#profile.to_file(\"Smog_data_report.html\")"
   ]
  },
  {
   "cell_type": "code",
   "execution_count": 160,
   "id": "31c18865",
   "metadata": {},
   "outputs": [],
   "source": [
    "smog_full= smog.dropna()"
   ]
  },
  {
   "cell_type": "code",
   "execution_count": 161,
   "id": "f281840e",
   "metadata": {},
   "outputs": [
    {
     "name": "stdout",
     "output_type": "stream",
     "text": [
      "<class 'pandas.core.frame.DataFrame'>\n",
      "Int64Index: 8100 entries, 0 to 8770\n",
      "Data columns (total 12 columns):\n",
      " #   Column           Non-Null Count  Dtype         \n",
      "---  ------           --------------  -----         \n",
      " 0   Data             8100 non-null   datetime64[ns]\n",
      " 1   Dwutlenek_azotu  8100 non-null   float64       \n",
      " 2   Tlenki_azotu     8100 non-null   float64       \n",
      " 3   PM10             8100 non-null   float64       \n",
      " 4   PM_2_5           8100 non-null   float64       \n",
      " 5   Benzen           8100 non-null   float64       \n",
      " 6   Tlenek_wegla     8100 non-null   float64       \n",
      " 7   Kierunek_wiatru  8100 non-null   float64       \n",
      " 8   Predkosc_wiatru  8100 non-null   float64       \n",
      " 9   Temperatura      8100 non-null   float64       \n",
      " 10  Wilgotnosc       8100 non-null   float64       \n",
      " 11  Cisnienie        8100 non-null   float64       \n",
      "dtypes: datetime64[ns](1), float64(11)\n",
      "memory usage: 822.7 KB\n"
     ]
    }
   ],
   "source": [
    "smog_full.info()"
   ]
  },
  {
   "cell_type": "code",
   "execution_count": 162,
   "id": "1f459837",
   "metadata": {},
   "outputs": [
    {
     "name": "stderr",
     "output_type": "stream",
     "text": [
      "C:\\Users\\micha\\AppData\\Local\\Temp/ipykernel_3536/1591823494.py:1: SettingWithCopyWarning: \n",
      "A value is trying to be set on a copy of a slice from a DataFrame.\n",
      "Try using .loc[row_indexer,col_indexer] = value instead\n",
      "\n",
      "See the caveats in the documentation: https://pandas.pydata.org/pandas-docs/stable/user_guide/indexing.html#returning-a-view-versus-a-copy\n",
      "  smog_full['Rok'] = pd.DatetimeIndex(smog_full['Data']).year\n"
     ]
    }
   ],
   "source": [
    "smog_full['Rok'] = pd.DatetimeIndex(smog_full['Data']).year"
   ]
  },
  {
   "cell_type": "code",
   "execution_count": 163,
   "id": "e8546559",
   "metadata": {},
   "outputs": [
    {
     "name": "stderr",
     "output_type": "stream",
     "text": [
      "C:\\Users\\micha\\AppData\\Local\\Temp/ipykernel_3536/2578949962.py:1: SettingWithCopyWarning: \n",
      "A value is trying to be set on a copy of a slice from a DataFrame.\n",
      "Try using .loc[row_indexer,col_indexer] = value instead\n",
      "\n",
      "See the caveats in the documentation: https://pandas.pydata.org/pandas-docs/stable/user_guide/indexing.html#returning-a-view-versus-a-copy\n",
      "  smog_full['Miesiac'] = pd.DatetimeIndex(smog_full['Data']).month\n",
      "C:\\Users\\micha\\AppData\\Local\\Temp/ipykernel_3536/2578949962.py:2: SettingWithCopyWarning: \n",
      "A value is trying to be set on a copy of a slice from a DataFrame.\n",
      "Try using .loc[row_indexer,col_indexer] = value instead\n",
      "\n",
      "See the caveats in the documentation: https://pandas.pydata.org/pandas-docs/stable/user_guide/indexing.html#returning-a-view-versus-a-copy\n",
      "  smog_full['Dzien'] = pd.DatetimeIndex(smog_full['Data']).day\n",
      "C:\\Users\\micha\\AppData\\Local\\Temp/ipykernel_3536/2578949962.py:3: SettingWithCopyWarning: \n",
      "A value is trying to be set on a copy of a slice from a DataFrame.\n",
      "Try using .loc[row_indexer,col_indexer] = value instead\n",
      "\n",
      "See the caveats in the documentation: https://pandas.pydata.org/pandas-docs/stable/user_guide/indexing.html#returning-a-view-versus-a-copy\n",
      "  smog_full['Godzina'] = pd.DatetimeIndex(smog_full['Data']).hour\n"
     ]
    }
   ],
   "source": [
    "smog_full['Miesiac'] = pd.DatetimeIndex(smog_full['Data']).month\n",
    "smog_full['Dzien'] = pd.DatetimeIndex(smog_full['Data']).day\n",
    "smog_full['Godzina'] = pd.DatetimeIndex(smog_full['Data']).hour"
   ]
  },
  {
   "cell_type": "code",
   "execution_count": 164,
   "id": "1721ae07",
   "metadata": {},
   "outputs": [],
   "source": [
    "smog_full = smog_full.drop(['Data','Rok'],axis=1)"
   ]
  },
  {
   "cell_type": "code",
   "execution_count": 166,
   "id": "af7af794",
   "metadata": {},
   "outputs": [],
   "source": [
    "X = smog_full.pop('PM10')\n",
    "y = smog_full"
   ]
  },
  {
   "cell_type": "code",
   "execution_count": 168,
   "id": "93476c4a",
   "metadata": {},
   "outputs": [],
   "source": [
    "from sklearn.preprocessing import StandardScaler\n",
    "scaler = StandardScaler()\n",
    "smog_scaled = scaler.fit_transform(smog_full)"
   ]
  },
  {
   "cell_type": "code",
   "execution_count": 170,
   "id": "803a121d",
   "metadata": {},
   "outputs": [
    {
     "data": {
      "text/plain": [
       "array([[-1.38701969, -1.05202057, -0.27742708, ..., -1.5124313 ,\n",
       "        -1.67211838, -1.52119385],\n",
       "       [-1.23752808, -0.96948593, -0.41852138, ..., -1.5124313 ,\n",
       "        -1.67211838, -1.37654954],\n",
       "       [-0.80352018, -0.727708  , -0.35527221, ..., -1.5124313 ,\n",
       "        -1.67211838, -1.23190523],\n",
       "       ...,\n",
       "       [-0.44184692, -0.57914566,  0.17991308, ...,  1.63031057,\n",
       "         1.73048065,  1.37169235],\n",
       "       [-0.34540072, -0.35970063,  0.36966059, ...,  1.63031057,\n",
       "         1.73048065,  1.51633666],\n",
       "       [-0.44184692, -0.50632098,  0.89024991, ...,  1.63031057,\n",
       "         1.73048065,  1.66098097]])"
      ]
     },
     "execution_count": 170,
     "metadata": {},
     "output_type": "execute_result"
    }
   ],
   "source": [
    "smog_scaled"
   ]
  },
  {
   "cell_type": "code",
   "execution_count": null,
   "id": "e66513db",
   "metadata": {},
   "outputs": [],
   "source": []
  }
 ],
 "metadata": {
  "kernelspec": {
   "display_name": "Python 3 (ipykernel)",
   "language": "python",
   "name": "python3"
  },
  "language_info": {
   "codemirror_mode": {
    "name": "ipython",
    "version": 3
   },
   "file_extension": ".py",
   "mimetype": "text/x-python",
   "name": "python",
   "nbconvert_exporter": "python",
   "pygments_lexer": "ipython3",
   "version": "3.8.8"
  }
 },
 "nbformat": 4,
 "nbformat_minor": 5
}
